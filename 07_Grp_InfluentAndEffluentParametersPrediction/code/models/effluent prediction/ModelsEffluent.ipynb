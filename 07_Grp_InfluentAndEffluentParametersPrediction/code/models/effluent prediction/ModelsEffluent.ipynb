{
  "nbformat": 4,
  "nbformat_minor": 0,
  "metadata": {
    "colab": {
      "name": "ModelsEffluent.ipynb",
      "provenance": []
    },
    "kernelspec": {
      "name": "python3",
      "display_name": "Python 3"
    },
    "language_info": {
      "name": "python"
    }
  },
  "cells": [
    {
      "cell_type": "code",
      "execution_count": null,
      "metadata": {
        "id": "rPMgADXa5dP2"
      },
      "outputs": [],
      "source": [
        ""
      ]
    },
    {
      "cell_type": "markdown",
      "source": [
        "Library"
      ],
      "metadata": {
        "id": "oty4bnD_5yMX"
      }
    },
    {
      "cell_type": "code",
      "source": [
        "import pandas as pd               \n",
        "import io\n",
        "import numpy as np\n",
        "import matplotlib.pyplot as plt"
      ],
      "metadata": {
        "id": "M2MlY_985zXR"
      },
      "execution_count": null,
      "outputs": []
    },
    {
      "cell_type": "markdown",
      "source": [
        "# ***Data***"
      ],
      "metadata": {
        "id": "r2V45MTD5qVi"
      }
    },
    {
      "cell_type": "code",
      "source": [
        "mother_data = pd.read_csv(\"https://raw.githubusercontent.com/xambert/Coding-Practice/main/Codes/df_afterPreprocessing.csv\")"
      ],
      "metadata": {
        "id": "TdLZsGMt50W5"
      },
      "execution_count": null,
      "outputs": []
    },
    {
      "cell_type": "code",
      "source": [
        "data = mother_data.copy()"
      ],
      "metadata": {
        "id": "T4RwjSz7DvXe"
      },
      "execution_count": null,
      "outputs": []
    },
    {
      "cell_type": "code",
      "source": [
        "from sklearn.model_selection import train_test_split\n",
        "from sklearn.linear_model import LinearRegression\n",
        "from sklearn.neighbors import KNeighborsRegressor\n",
        "from sklearn.ensemble import GradientBoostingRegressor, RandomForestRegressor\n",
        "from sklearn.metrics import mean_squared_error as MSE"
      ],
      "metadata": {
        "id": "iVMGcoku574Y"
      },
      "execution_count": null,
      "outputs": []
    },
    {
      "cell_type": "code",
      "source": [
        "predictor = [col for col in data.columns if \"IN\" in col]"
      ],
      "metadata": {
        "id": "zCa5gCnQ7PA9"
      },
      "execution_count": null,
      "outputs": []
    },
    {
      "cell_type": "code",
      "source": [
        "targets = [col for col in data.columns if \"OUT\" in col]"
      ],
      "metadata": {
        "id": "cd-ZrUF77uy1"
      },
      "execution_count": null,
      "outputs": []
    },
    {
      "cell_type": "code",
      "source": [
        "accdic = {}"
      ],
      "metadata": {
        "id": "Is8_CuzqZ5gu"
      },
      "execution_count": null,
      "outputs": []
    },
    {
      "cell_type": "code",
      "source": [
        "effdf = pd.DataFrame(columns = targets, index = [\"Linear Regression\", \"KNN\", \"GradientBoostingRegression\", \"RandomForestRegression\"])"
      ],
      "metadata": {
        "id": "ZB-X46wjaZPH"
      },
      "execution_count": null,
      "outputs": []
    },
    {
      "cell_type": "code",
      "source": [
        "effdf"
      ],
      "metadata": {
        "colab": {
          "base_uri": "https://localhost:8080/",
          "height": 239
        },
        "id": "d_Xyc1H7bPKu",
        "outputId": "ed04e78e-45bf-4edb-bb5f-f4aec69849a5"
      },
      "execution_count": null,
      "outputs": [
        {
          "output_type": "execute_result",
          "data": {
            "text/plain": [
              "                                          OUT_PH                 OUT_DO  \\\n",
              "Linear Regression                          100.0              55.309735   \n",
              "KNN                         [0.7345132743362832]  [0.15486725663716813]   \n",
              "GradientBoostingRegression  [0.7123893805309734]  [0.14601769911504425]   \n",
              "RandomForestRegression      [0.7256637168141593]  [0.10619469026548672]   \n",
              "\n",
              "                                          OUT_TSS                 OUT_COD  \\\n",
              "Linear Regression                       42.477876               24.778761   \n",
              "KNN                         [0.06637168141592921]  [0.048672566371681415]   \n",
              "GradientBoostingRegression    [0.084070796460177]  [0.030973451327433628]   \n",
              "RandomForestRegression      [0.08849557522123894]  [0.035398230088495575]   \n",
              "\n",
              "                                          OUT_BOD                 OUT_MPN  \n",
              "Linear Regression                       47.787611               16.371681  \n",
              "KNN                           [0.084070796460177]   [0.04424778761061947]  \n",
              "GradientBoostingRegression  [0.08849557522123894]  [0.035398230088495575]  \n",
              "RandomForestRegression      [0.12831858407079647]  [0.030973451327433628]  "
            ],
            "text/html": [
              "\n",
              "  <div id=\"df-2e356077-8d3c-43c3-a152-7b0979d61efe\">\n",
              "    <div class=\"colab-df-container\">\n",
              "      <div>\n",
              "<style scoped>\n",
              "    .dataframe tbody tr th:only-of-type {\n",
              "        vertical-align: middle;\n",
              "    }\n",
              "\n",
              "    .dataframe tbody tr th {\n",
              "        vertical-align: top;\n",
              "    }\n",
              "\n",
              "    .dataframe thead th {\n",
              "        text-align: right;\n",
              "    }\n",
              "</style>\n",
              "<table border=\"1\" class=\"dataframe\">\n",
              "  <thead>\n",
              "    <tr style=\"text-align: right;\">\n",
              "      <th></th>\n",
              "      <th>OUT_PH</th>\n",
              "      <th>OUT_DO</th>\n",
              "      <th>OUT_TSS</th>\n",
              "      <th>OUT_COD</th>\n",
              "      <th>OUT_BOD</th>\n",
              "      <th>OUT_MPN</th>\n",
              "    </tr>\n",
              "  </thead>\n",
              "  <tbody>\n",
              "    <tr>\n",
              "      <th>Linear Regression</th>\n",
              "      <td>100.0</td>\n",
              "      <td>55.309735</td>\n",
              "      <td>42.477876</td>\n",
              "      <td>24.778761</td>\n",
              "      <td>47.787611</td>\n",
              "      <td>16.371681</td>\n",
              "    </tr>\n",
              "    <tr>\n",
              "      <th>KNN</th>\n",
              "      <td>[0.7345132743362832]</td>\n",
              "      <td>[0.15486725663716813]</td>\n",
              "      <td>[0.06637168141592921]</td>\n",
              "      <td>[0.048672566371681415]</td>\n",
              "      <td>[0.084070796460177]</td>\n",
              "      <td>[0.04424778761061947]</td>\n",
              "    </tr>\n",
              "    <tr>\n",
              "      <th>GradientBoostingRegression</th>\n",
              "      <td>[0.7123893805309734]</td>\n",
              "      <td>[0.14601769911504425]</td>\n",
              "      <td>[0.084070796460177]</td>\n",
              "      <td>[0.030973451327433628]</td>\n",
              "      <td>[0.08849557522123894]</td>\n",
              "      <td>[0.035398230088495575]</td>\n",
              "    </tr>\n",
              "    <tr>\n",
              "      <th>RandomForestRegression</th>\n",
              "      <td>[0.7256637168141593]</td>\n",
              "      <td>[0.10619469026548672]</td>\n",
              "      <td>[0.08849557522123894]</td>\n",
              "      <td>[0.035398230088495575]</td>\n",
              "      <td>[0.12831858407079647]</td>\n",
              "      <td>[0.030973451327433628]</td>\n",
              "    </tr>\n",
              "  </tbody>\n",
              "</table>\n",
              "</div>\n",
              "      <button class=\"colab-df-convert\" onclick=\"convertToInteractive('df-2e356077-8d3c-43c3-a152-7b0979d61efe')\"\n",
              "              title=\"Convert this dataframe to an interactive table.\"\n",
              "              style=\"display:none;\">\n",
              "        \n",
              "  <svg xmlns=\"http://www.w3.org/2000/svg\" height=\"24px\"viewBox=\"0 0 24 24\"\n",
              "       width=\"24px\">\n",
              "    <path d=\"M0 0h24v24H0V0z\" fill=\"none\"/>\n",
              "    <path d=\"M18.56 5.44l.94 2.06.94-2.06 2.06-.94-2.06-.94-.94-2.06-.94 2.06-2.06.94zm-11 1L8.5 8.5l.94-2.06 2.06-.94-2.06-.94L8.5 2.5l-.94 2.06-2.06.94zm10 10l.94 2.06.94-2.06 2.06-.94-2.06-.94-.94-2.06-.94 2.06-2.06.94z\"/><path d=\"M17.41 7.96l-1.37-1.37c-.4-.4-.92-.59-1.43-.59-.52 0-1.04.2-1.43.59L10.3 9.45l-7.72 7.72c-.78.78-.78 2.05 0 2.83L4 21.41c.39.39.9.59 1.41.59.51 0 1.02-.2 1.41-.59l7.78-7.78 2.81-2.81c.8-.78.8-2.07 0-2.86zM5.41 20L4 18.59l7.72-7.72 1.47 1.35L5.41 20z\"/>\n",
              "  </svg>\n",
              "      </button>\n",
              "      \n",
              "  <style>\n",
              "    .colab-df-container {\n",
              "      display:flex;\n",
              "      flex-wrap:wrap;\n",
              "      gap: 12px;\n",
              "    }\n",
              "\n",
              "    .colab-df-convert {\n",
              "      background-color: #E8F0FE;\n",
              "      border: none;\n",
              "      border-radius: 50%;\n",
              "      cursor: pointer;\n",
              "      display: none;\n",
              "      fill: #1967D2;\n",
              "      height: 32px;\n",
              "      padding: 0 0 0 0;\n",
              "      width: 32px;\n",
              "    }\n",
              "\n",
              "    .colab-df-convert:hover {\n",
              "      background-color: #E2EBFA;\n",
              "      box-shadow: 0px 1px 2px rgba(60, 64, 67, 0.3), 0px 1px 3px 1px rgba(60, 64, 67, 0.15);\n",
              "      fill: #174EA6;\n",
              "    }\n",
              "\n",
              "    [theme=dark] .colab-df-convert {\n",
              "      background-color: #3B4455;\n",
              "      fill: #D2E3FC;\n",
              "    }\n",
              "\n",
              "    [theme=dark] .colab-df-convert:hover {\n",
              "      background-color: #434B5C;\n",
              "      box-shadow: 0px 1px 3px 1px rgba(0, 0, 0, 0.15);\n",
              "      filter: drop-shadow(0px 1px 2px rgba(0, 0, 0, 0.3));\n",
              "      fill: #FFFFFF;\n",
              "    }\n",
              "  </style>\n",
              "\n",
              "      <script>\n",
              "        const buttonEl =\n",
              "          document.querySelector('#df-2e356077-8d3c-43c3-a152-7b0979d61efe button.colab-df-convert');\n",
              "        buttonEl.style.display =\n",
              "          google.colab.kernel.accessAllowed ? 'block' : 'none';\n",
              "\n",
              "        async function convertToInteractive(key) {\n",
              "          const element = document.querySelector('#df-2e356077-8d3c-43c3-a152-7b0979d61efe');\n",
              "          const dataTable =\n",
              "            await google.colab.kernel.invokeFunction('convertToInteractive',\n",
              "                                                     [key], {});\n",
              "          if (!dataTable) return;\n",
              "\n",
              "          const docLinkHtml = 'Like what you see? Visit the ' +\n",
              "            '<a target=\"_blank\" href=https://colab.research.google.com/notebooks/data_table.ipynb>data table notebook</a>'\n",
              "            + ' to learn more about interactive tables.';\n",
              "          element.innerHTML = '';\n",
              "          dataTable['output_type'] = 'display_data';\n",
              "          await google.colab.output.renderOutput(dataTable, element);\n",
              "          const docLink = document.createElement('div');\n",
              "          docLink.innerHTML = docLinkHtml;\n",
              "          element.appendChild(docLink);\n",
              "        }\n",
              "      </script>\n",
              "    </div>\n",
              "  </div>\n",
              "  "
            ]
          },
          "metadata": {},
          "execution_count": 25
        }
      ]
    },
    {
      "cell_type": "code",
      "source": [
        "for target in targets:\n",
        "  X_train, X_test, Y_train, Y_test = train_test_split(data[predictor], data[target], test_size = 0.2, random_state=100,shuffle=True)\n",
        "  #linear Regression Model\n",
        "  LR = LinearRegression()\n",
        "  LR.fit(X_train,Y_train)\n",
        "  y_pred = LR.predict(X_test)\n",
        "  tar = np.reshape(np.asarray(Y_test),(-1,1))\n",
        "  pre = np.reshape(y_pred, (-1,1))\n",
        "  acc = [0]*len(tar)\n",
        "  for i,xy in enumerate(zip(tar,pre)):\n",
        "    #print(abs(xy[0]-xy[1]), 0.01 * xy[0])\n",
        "    acc[i] = abs(xy[0]-xy[1]) <  0.01 * xy[0]\n",
        "  effdf[target][\"Linear Regression\"] = (sum(acc) * 100 / len(acc))[0]\n",
        "    \n",
        "  \n",
        "  "
      ],
      "metadata": {
        "id": "gqqAPcGk71Gi"
      },
      "execution_count": null,
      "outputs": []
    },
    {
      "cell_type": "code",
      "source": [
        "for target in targets:\n",
        "  X_train, X_test, Y_train, Y_test = train_test_split(data[predictor], data[target], test_size = 0.2, random_state=100,shuffle=True)\n",
        "  maxer = -1\n",
        "  maxsc = -1\n",
        "  nn = 1\n",
        "  for i in range(14,15):\n",
        "    KNN = KNeighborsRegressor(n_neighbors=i)\n",
        "    KNN.fit(X_train, Y_train)\n",
        "    y_pred = KNN.predict(X_test)\n",
        "    maxer = max(maxer, MSE(Y_test, y_pred))\n",
        "    if maxsc < KNN.score(X_test, Y_test): \n",
        "      maxsc = KNN.score(X_test, Y_test)\n",
        "      nn = i\n",
        "  tar = np.reshape(np.asarray(Y_test),(-1,1))\n",
        "  pre = np.reshape(y_pred, (-1,1))\n",
        "  acc = [0]*len(tar)\n",
        "  for i,xy in enumerate(zip(tar,pre)):\n",
        "    #print(abs(xy[0]-xy[1]), 0.01 * xy[0])\n",
        "    acc[i] = abs(xy[0]-xy[1]) <  0.01 * xy[0]\n",
        "  effdf[target][\"KNN\"] = (sum(acc) * 100 / len(acc))[0]"
      ],
      "metadata": {
        "id": "o-bHe7bp9_rt"
      },
      "execution_count": null,
      "outputs": []
    },
    {
      "cell_type": "code",
      "source": [
        "for target in targets:\n",
        "  X_train, X_test, Y_train, Y_test = train_test_split(data[predictor], data[target], test_size = 0.2, random_state=100,shuffle=True)\n",
        "  #linear Regression Model\n",
        "  GBR = GradientBoostingRegressor()\n",
        "  GBR.fit(X_train,Y_train)\n",
        "  y_pred = GBR.predict(X_test)\n",
        "  tar = np.reshape(np.asarray(Y_test),(-1,1))\n",
        "  pre = np.reshape(y_pred, (-1,1))\n",
        "  acc = [0]*len(tar)\n",
        "  for i,xy in enumerate(zip(tar,pre)):\n",
        "    #print(abs(xy[0]-xy[1]), 0.01 * xy[0])\n",
        "    acc[i] = abs(xy[0]-xy[1]) <  0.01 * xy[0]\n",
        "  effdf[target][\"GradientBoostingRegression\"] = (sum(acc) * 100 / len(acc))[0]"
      ],
      "metadata": {
        "id": "iodDRdRjAxDu"
      },
      "execution_count": null,
      "outputs": []
    },
    {
      "cell_type": "code",
      "source": [
        "for target in targets:\n",
        "  X_train, X_test, Y_train, Y_test = train_test_split(data[predictor], data[target], test_size = 0.2, random_state=100,shuffle=True)\n",
        "  #linear Regression Model\n",
        "  RF = RandomForestRegressor()\n",
        "  RF.fit(X_train,Y_train)\n",
        "  y_pred = RF.predict(X_test) \n",
        "  tar = np.reshape(np.asarray(Y_test),(-1,1))\n",
        "  pre = np.reshape(y_pred, (-1,1))\n",
        "  acc = [0]*len(tar)\n",
        "  for i,xy in enumerate(zip(tar,pre)):\n",
        "    #print(abs(xy[0]-xy[1]), 0.01 * xy[0])\n",
        "    acc[i] = abs(xy[0]-xy[1]) <  0.01 * xy[0]\n",
        "  effdf[target][\"RandomForestRegression\"] = (sum(acc) * 100 / len(acc))[0]"
      ],
      "metadata": {
        "id": "g7y_E5TLBmma"
      },
      "execution_count": null,
      "outputs": []
    },
    {
      "cell_type": "code",
      "source": [
        "effdf"
      ],
      "metadata": {
        "colab": {
          "base_uri": "https://localhost:8080/",
          "height": 175
        },
        "id": "Ag6siQz8gdzf",
        "outputId": "4133f8e9-cd8a-4558-f5eb-b5443647bf56"
      },
      "execution_count": null,
      "outputs": [
        {
          "output_type": "execute_result",
          "data": {
            "text/plain": [
              "                               OUT_PH     OUT_DO    OUT_TSS   OUT_COD  \\\n",
              "Linear Regression           71.238938  12.389381  11.061947  3.097345   \n",
              "KNN                         73.451327  15.486726   6.637168  4.867257   \n",
              "GradientBoostingRegression   70.79646   14.60177    8.40708  3.539823   \n",
              "RandomForestRegression      71.681416  11.504425   6.637168  3.982301   \n",
              "\n",
              "                              OUT_BOD   OUT_MPN  \n",
              "Linear Regression            7.522124  2.212389  \n",
              "KNN                           8.40708  4.424779  \n",
              "GradientBoostingRegression   9.292035  3.539823  \n",
              "RandomForestRegression      10.619469  4.424779  "
            ],
            "text/html": [
              "\n",
              "  <div id=\"df-b015c9a6-2e01-43c0-998e-81c140ff168b\">\n",
              "    <div class=\"colab-df-container\">\n",
              "      <div>\n",
              "<style scoped>\n",
              "    .dataframe tbody tr th:only-of-type {\n",
              "        vertical-align: middle;\n",
              "    }\n",
              "\n",
              "    .dataframe tbody tr th {\n",
              "        vertical-align: top;\n",
              "    }\n",
              "\n",
              "    .dataframe thead th {\n",
              "        text-align: right;\n",
              "    }\n",
              "</style>\n",
              "<table border=\"1\" class=\"dataframe\">\n",
              "  <thead>\n",
              "    <tr style=\"text-align: right;\">\n",
              "      <th></th>\n",
              "      <th>OUT_PH</th>\n",
              "      <th>OUT_DO</th>\n",
              "      <th>OUT_TSS</th>\n",
              "      <th>OUT_COD</th>\n",
              "      <th>OUT_BOD</th>\n",
              "      <th>OUT_MPN</th>\n",
              "    </tr>\n",
              "  </thead>\n",
              "  <tbody>\n",
              "    <tr>\n",
              "      <th>Linear Regression</th>\n",
              "      <td>71.238938</td>\n",
              "      <td>12.389381</td>\n",
              "      <td>11.061947</td>\n",
              "      <td>3.097345</td>\n",
              "      <td>7.522124</td>\n",
              "      <td>2.212389</td>\n",
              "    </tr>\n",
              "    <tr>\n",
              "      <th>KNN</th>\n",
              "      <td>73.451327</td>\n",
              "      <td>15.486726</td>\n",
              "      <td>6.637168</td>\n",
              "      <td>4.867257</td>\n",
              "      <td>8.40708</td>\n",
              "      <td>4.424779</td>\n",
              "    </tr>\n",
              "    <tr>\n",
              "      <th>GradientBoostingRegression</th>\n",
              "      <td>70.79646</td>\n",
              "      <td>14.60177</td>\n",
              "      <td>8.40708</td>\n",
              "      <td>3.539823</td>\n",
              "      <td>9.292035</td>\n",
              "      <td>3.539823</td>\n",
              "    </tr>\n",
              "    <tr>\n",
              "      <th>RandomForestRegression</th>\n",
              "      <td>71.681416</td>\n",
              "      <td>11.504425</td>\n",
              "      <td>6.637168</td>\n",
              "      <td>3.982301</td>\n",
              "      <td>10.619469</td>\n",
              "      <td>4.424779</td>\n",
              "    </tr>\n",
              "  </tbody>\n",
              "</table>\n",
              "</div>\n",
              "      <button class=\"colab-df-convert\" onclick=\"convertToInteractive('df-b015c9a6-2e01-43c0-998e-81c140ff168b')\"\n",
              "              title=\"Convert this dataframe to an interactive table.\"\n",
              "              style=\"display:none;\">\n",
              "        \n",
              "  <svg xmlns=\"http://www.w3.org/2000/svg\" height=\"24px\"viewBox=\"0 0 24 24\"\n",
              "       width=\"24px\">\n",
              "    <path d=\"M0 0h24v24H0V0z\" fill=\"none\"/>\n",
              "    <path d=\"M18.56 5.44l.94 2.06.94-2.06 2.06-.94-2.06-.94-.94-2.06-.94 2.06-2.06.94zm-11 1L8.5 8.5l.94-2.06 2.06-.94-2.06-.94L8.5 2.5l-.94 2.06-2.06.94zm10 10l.94 2.06.94-2.06 2.06-.94-2.06-.94-.94-2.06-.94 2.06-2.06.94z\"/><path d=\"M17.41 7.96l-1.37-1.37c-.4-.4-.92-.59-1.43-.59-.52 0-1.04.2-1.43.59L10.3 9.45l-7.72 7.72c-.78.78-.78 2.05 0 2.83L4 21.41c.39.39.9.59 1.41.59.51 0 1.02-.2 1.41-.59l7.78-7.78 2.81-2.81c.8-.78.8-2.07 0-2.86zM5.41 20L4 18.59l7.72-7.72 1.47 1.35L5.41 20z\"/>\n",
              "  </svg>\n",
              "      </button>\n",
              "      \n",
              "  <style>\n",
              "    .colab-df-container {\n",
              "      display:flex;\n",
              "      flex-wrap:wrap;\n",
              "      gap: 12px;\n",
              "    }\n",
              "\n",
              "    .colab-df-convert {\n",
              "      background-color: #E8F0FE;\n",
              "      border: none;\n",
              "      border-radius: 50%;\n",
              "      cursor: pointer;\n",
              "      display: none;\n",
              "      fill: #1967D2;\n",
              "      height: 32px;\n",
              "      padding: 0 0 0 0;\n",
              "      width: 32px;\n",
              "    }\n",
              "\n",
              "    .colab-df-convert:hover {\n",
              "      background-color: #E2EBFA;\n",
              "      box-shadow: 0px 1px 2px rgba(60, 64, 67, 0.3), 0px 1px 3px 1px rgba(60, 64, 67, 0.15);\n",
              "      fill: #174EA6;\n",
              "    }\n",
              "\n",
              "    [theme=dark] .colab-df-convert {\n",
              "      background-color: #3B4455;\n",
              "      fill: #D2E3FC;\n",
              "    }\n",
              "\n",
              "    [theme=dark] .colab-df-convert:hover {\n",
              "      background-color: #434B5C;\n",
              "      box-shadow: 0px 1px 3px 1px rgba(0, 0, 0, 0.15);\n",
              "      filter: drop-shadow(0px 1px 2px rgba(0, 0, 0, 0.3));\n",
              "      fill: #FFFFFF;\n",
              "    }\n",
              "  </style>\n",
              "\n",
              "      <script>\n",
              "        const buttonEl =\n",
              "          document.querySelector('#df-b015c9a6-2e01-43c0-998e-81c140ff168b button.colab-df-convert');\n",
              "        buttonEl.style.display =\n",
              "          google.colab.kernel.accessAllowed ? 'block' : 'none';\n",
              "\n",
              "        async function convertToInteractive(key) {\n",
              "          const element = document.querySelector('#df-b015c9a6-2e01-43c0-998e-81c140ff168b');\n",
              "          const dataTable =\n",
              "            await google.colab.kernel.invokeFunction('convertToInteractive',\n",
              "                                                     [key], {});\n",
              "          if (!dataTable) return;\n",
              "\n",
              "          const docLinkHtml = 'Like what you see? Visit the ' +\n",
              "            '<a target=\"_blank\" href=https://colab.research.google.com/notebooks/data_table.ipynb>data table notebook</a>'\n",
              "            + ' to learn more about interactive tables.';\n",
              "          element.innerHTML = '';\n",
              "          dataTable['output_type'] = 'display_data';\n",
              "          await google.colab.output.renderOutput(dataTable, element);\n",
              "          const docLink = document.createElement('div');\n",
              "          docLink.innerHTML = docLinkHtml;\n",
              "          element.appendChild(docLink);\n",
              "        }\n",
              "      </script>\n",
              "    </div>\n",
              "  </div>\n",
              "  "
            ]
          },
          "metadata": {},
          "execution_count": 36
        }
      ]
    },
    {
      "cell_type": "code",
      "source": [
        "effdf.to_csv(\"ABC.csv\")"
      ],
      "metadata": {
        "id": "ZlB0znSHgvfh"
      },
      "execution_count": null,
      "outputs": []
    },
    {
      "cell_type": "code",
      "source": [
        ""
      ],
      "metadata": {
        "id": "90iZLKCwh6Sg"
      },
      "execution_count": null,
      "outputs": []
    }
  ]
}