{
  "cells": [
    {
      "cell_type": "code",
      "execution_count": null,
      "metadata": {
        "id": "F4sGpetTfROJ"
      },
      "outputs": [],
      "source": [
        "import torch as T\n",
        "import torch.nn as nn\n",
        "from torch.utils.data import DataLoader, TensorDataset"
      ]
    },
    {
      "cell_type": "code",
      "execution_count": null,
      "metadata": {
        "id": "18_tt--ZfqUk"
      },
      "outputs": [],
      "source": [
        "#importing libraries\n",
        "import pandas as pd               \n",
        "import io\n",
        "import numpy as np\n",
        "import matplotlib.pyplot as plt\n",
        "\n",
        "data = pd.read_csv(\"https://raw.githubusercontent.com/xambert/Coding-Practice/main/Codes/df_afterPreprocessing.csv\")\n",
        "\n",
        "device = T.device(\"cpu\")\n",
        "\n"
      ]
    },
    {
      "cell_type": "code",
      "execution_count": null,
      "metadata": {
        "id": "N2Sl-WuQg1xN"
      },
      "outputs": [],
      "source": [
        "xcols = [\"IN_PH\",\"IN_TSS\", \"IN_BOD\",\"IN_COD\",\"IN_MPN\"]\n",
        "ycols = [\"OUT_PH\",\"OUT_DO\",\"OUT_TSS\"\t,\"OUT_COD\"\t,\"OUT_BOD\", \"OUT_MPN\"]"
      ]
    },
    {
      "cell_type": "code",
      "execution_count": null,
      "metadata": {
        "id": "cKn5iyPMgIrj"
      },
      "outputs": [],
      "source": [
        "def minmax(df, xcols):\n",
        "  X = df[xcols].copy()\n",
        "  for column in X.columns:\n",
        "    X[column] = (X[column] - X[column].min())/(X[column].max() - X[column].min())\n",
        "  return X"
      ]
    },
    {
      "cell_type": "code",
      "execution_count": null,
      "metadata": {
        "id": "MsQx0VR9gNK9"
      },
      "outputs": [],
      "source": [
        "new_data = data.copy()"
      ]
    },
    {
      "cell_type": "code",
      "execution_count": null,
      "metadata": {
        "id": "YsMRqhtZgLz-"
      },
      "outputs": [],
      "source": [
        "new_data[ycols] = minmax(new_data, ycols).copy()"
      ]
    },
    {
      "cell_type": "code",
      "execution_count": null,
      "metadata": {
        "id": "PHzloM2ahfKw"
      },
      "outputs": [],
      "source": [
        "#import torch.nn.functional as F\n"
      ]
    },
    {
      "cell_type": "code",
      "execution_count": null,
      "metadata": {
        "id": "tfF1GZoJiX7W"
      },
      "outputs": [],
      "source": [
        "#shuffling data\n",
        "train_df = new_data.sample(frac=0.8)\n",
        "test_df = new_data.drop(train_df.index)\n"
      ]
    },
    {
      "cell_type": "code",
      "execution_count": null,
      "metadata": {
        "id": "OONryrKBgUqa"
      },
      "outputs": [],
      "source": [
        "def divide(df,xcol, ycol):\n",
        "  p = T.Tensor(df[xcol].values.astype(np.float64))\n",
        "  t = T.Tensor(df[ycol].values.astype(np.float64))\n",
        "  t = T.reshape(t, (-1,1))\n",
        "  return p,t\n",
        "  "
      ]
    },
    {
      "cell_type": "code",
      "execution_count": null,
      "metadata": {
        "id": "dQvo8xEOEfhc"
      },
      "outputs": [],
      "source": [
        "\n",
        "class Net(T.nn.Module):\n",
        "  def __init__(self):\n",
        "    super(Net, self).__init__()\n",
        "    self.hid1 = T.nn.Linear(5, 10)  # 5-(10-10)-1\n",
        "    self.hid2 = T.nn.Linear(10, 10)\n",
        "    self.oupt = T.nn.Linear(10, 1)\n",
        "\n",
        "    T.nn.init.xavier_uniform_(self.hid1.weight)\n",
        "    T.nn.init.zeros_(self.hid1.bias)\n",
        "    T.nn.init.xavier_uniform_(self.hid2.weight)\n",
        "    T.nn.init.zeros_(self.hid2.bias)\n",
        "    T.nn.init.xavier_uniform_(self.oupt.weight)\n",
        "    T.nn.init.zeros_(self.oupt.bias)\n"
      ]
    },
    {
      "cell_type": "code",
      "execution_count": null,
      "metadata": {
        "id": "5qEPBBfpEhVZ"
      },
      "outputs": [],
      "source": [
        "model_0 = Net()"
      ]
    },
    {
      "cell_type": "code",
      "execution_count": null,
      "metadata": {
        "id": "ri5dV6Fne0sY"
      },
      "outputs": [],
      "source": [
        "def acc(model, dl, eps):\n",
        "  cor , wro = 0, 0\n",
        "  for X,Y in dl:\n",
        "    with T.no_grad():\n",
        "      outp = model(X)    \n",
        "    abs_delta = np.abs(outp.item() - Y.item())\n",
        "    max_allow = np.abs(eps * Y.item())\n",
        "    if abs_delta < max_allow:\n",
        "      cor += 1\n",
        "    else:\n",
        "      wro += 1\n",
        "  acc = (cor * 100.0) / (cor + wro)\n",
        "  return acc"
      ]
    },
    {
      "cell_type": "code",
      "execution_count": null,
      "metadata": {
        "id": "_eaKVGbZnFnW"
      },
      "outputs": [],
      "source": [
        "def fitandacc(model, opt,loss_fn, trdl, tedl, num_epochs):\n",
        "  model.train()\n",
        "  loss_list = []\n",
        "  for epoch in range(num_epochs):\n",
        "    cost = 0\n",
        "    for xb, yb in trdl:\n",
        "      y_pred = model(xb)\n",
        "      loss = loss_fn(y_pred, yb)\n",
        "      cost += loss\n",
        "      #print(yb.item(), y_pred, loss)\n",
        "      loss.backward()\n",
        "      opt.step()\n",
        "      opt.zero_grad()\n",
        "    loss_list.append(cost.item()/len(trdl))\n",
        "    if epoch %50==0:\n",
        "      print(\"Epoch \", epoch, \"Cost=\", cost/len(trdl))\n",
        "  model.eval()\n",
        "  acctr = acc(model, trdl, 0.25)\n",
        "  accte = acc(model, tedl, 0.25)\n",
        "  return min(loss_list), acctr, accte"
      ]
    },
    {
      "cell_type": "code",
      "execution_count": null,
      "metadata": {
        "id": "Vdkq5251jlXl"
      },
      "outputs": [],
      "source": [
        "#single hidden  layer\n",
        "model_1 = nn.Sequential(nn.Linear(5,6), nn.ReLU(), nn.Linear(6,1)) \n",
        "model_2 = nn.Sequential(nn.Linear(5, 6), nn.Tanh(), nn.Linear(6,1))\n",
        "model_3 = nn.Sequential(nn.Linear(5,6), nn.Sigmoid(), nn.Linear(6,1)) \n",
        "model_4 = nn.Sequential(nn.Linear(5,6), nn.ReLU(), nn.Linear(6,6),nn.ReLU(),nn.Linear(6,1)) \n",
        "model_5 = nn.Sequential(nn.Linear(5,6), nn.Sigmoid(), nn.Linear(6,6),nn.Sigmoid(),nn.Linear(6,1)) \n",
        "model_9 = nn.Sequential(nn.Linear(5,6), nn.Tanh(), nn.Linear(6,6),nn.Tanh(),nn.Linear(6,6),nn.Tanh(),nn.Linear(6,1))  \n",
        "model_7 = nn.Sequential(nn.Linear(5,6), nn.ReLU(), nn.Linear(6,6),nn.ReLU(),nn.Linear(6,6),nn.ReLU(),nn.Linear(6,1)) \n",
        "model_8 = nn.Sequential(nn.Linear(5,6), nn.Sigmoid(), nn.Linear(6,6),nn.Sigmoid(),nn.Linear(6,6),nn.Sigmoid(),nn.Linear(6,1)) \n",
        "model_6 = nn.Sequential(nn.Linear(5,6), nn.Tanh(), nn.Linear(6,6),nn.Tanh(),nn.Linear(6,1))"
      ]
    },
    {
      "cell_type": "code",
      "execution_count": null,
      "metadata": {
        "id": "vPfzTBg_LK6P"
      },
      "outputs": [],
      "source": [
        "def init_weights(m):\n",
        "    if isinstance(m, nn.Linear):\n",
        "        T.nn.init.xavier_uniform_(m.weight)\n",
        "        m.bias.data.fill_(0.00001)"
      ]
    },
    {
      "cell_type": "code",
      "execution_count": null,
      "metadata": {
        "id": "FBFJU9ojLci8"
      },
      "outputs": [],
      "source": [
        "for i in range(10):\n",
        "  mod = eval(\"model_\"+str(i))\n",
        "  mod.apply(init_weights)\n",
        "  print(mod)\n",
        "\n",
        "modelmap = { \"model_1\" : \"5-6-1\", \"model_2\" : \"5-6-1\", \"model_3\" : \"5-6-1\", \"model_4\": \"5-6-6-1\", \"model_5\" : \"5-6-6-1\", \"model_6\" : \"5-6-6-1\", \"model_7\" : \"5-6-6-6-1\", \"model_8\" : \"5-6-6-6-1\", \"model_9\" : \"5-6-6-6-1\"}\n",
        "actmap = {\"model_1\" : \"ReLU\", \"model_2\": \"TanH\", \"model_3\":\"Sigmoid\", \"model_4\" : \"ReLU\", \"model_5\" : \"TanH\", \"model_6\" : \"Sigmoid\",\"model_7\" : \"ReLU\", \"model_9\" : \"TanH\", \"model_8\" : \"Sigmoid\" }"
      ]
    },
    {
      "cell_type": "code",
      "execution_count": null,
      "metadata": {
        "id": "ItPyLKWDp_1H"
      },
      "outputs": [],
      "source": [
        "out_df = [pd.DataFrame(columns=[\"Model\",\"Activation Function\", \"Cost\", \"Accuracy-Train\", \"Accuracy-Test\"])]*6\n",
        "for j,col in enumerate(ycols):\n",
        "  ptrain, ttrain = divide(train_df, xcols,col)\n",
        "  ptest, ttest = divide(test_df, xcols, col) \n",
        "  train_ds = TensorDataset(ptrain, ttrain)\n",
        "  test_ds = TensorDataset(ptest, ttest)\n",
        "  for i in range(1,10):\n",
        "    train_dl = DataLoader(train_ds,batch_size=1,shuffle=True)\n",
        "    test_dl = DataLoader(test_ds,batch_size=1,shuffle=True)\n",
        "    mod = \"model_\"+str(i)\n",
        "    opt = T.optim.Adam(eval(mod).parameters(),lr = 0.001)\n",
        "    #opt = T.optim.Adam(net.parameters(),lr = 0.005)\n",
        "    loss_fn = T.nn.MSELoss()\n",
        "    #fn_cost = fit(eval(mod), opt, loss_fn, train_dl, pvalid, tvalid, 1)\n",
        "    fn_cost, acctr, accte = fitandacc(eval(mod), opt, loss_fn, train_dl, test_dl, 300)\n",
        "    test = pd.DataFrame([[modelmap[mod],actmap[mod], fn_cost, acctr, accte]], columns=[\"Model\",\"Activation Function\", \"Cost\", \"Accuracy-Train\", \"Accuracy-Test\"])\n",
        "    out_df[j] = out_df[j].append(test,ignore_index=True)"
      ]
    },
    {
      "cell_type": "code",
      "execution_count": null,
      "metadata": {
        "id": "gxlOPOHaLZxF"
      },
      "outputs": [],
      "source": [
        "out_df"
      ]
    },
    {
      "cell_type": "code",
      "execution_count": null,
      "metadata": {
        "id": "UiRUiQD8y9KN"
      },
      "outputs": [],
      "source": [
        "for i,col in enumerate(ycols):\n",
        "  print(col)\n",
        "  print(out_df[i])\n",
        "  out_df[i].to_csv(ycols[i]+\".csv\")"
      ]
    },
    {
      "cell_type": "markdown",
      "source": [
        "\"Extras\""
      ],
      "metadata": {
        "id": "1aB5QjYxw9eq"
      }
    },
    {
      "cell_type": "code",
      "execution_count": null,
      "metadata": {
        "id": "g_6RRl9x5mS_"
      },
      "outputs": [],
      "source": [
        "out_df = [pd.DataFrame(columns=[\"Model\", \"Cost\", \"Accuracy-Train\", \"Accuracy-Test\"])]*6\n",
        "for j,col in enumerate([ycols[1]]):\n",
        "  ptrain, ttrain = divide(train_df, xcols,col)\n",
        "  ptest, ttest = divide(test_df, xcols, col) \n",
        "  train_ds = TensorDataset(ptrain, ttrain)\n",
        "  test_ds = TensorDataset(ptest, ttest)\n",
        "  for i in range(10):\n",
        "    train_dl = DataLoader(train_ds,batch_size=1,shuffle=True)\n",
        "    test_dl = DataLoader(test_ds,batch_size=1,shuffle=True)\n",
        "    mod = \"model_\"+str(i)\n",
        "    opt = T.optim.Adam(eval(mod).parameters(),lr = 0.005)\n",
        "    #opt = T.optim.Adam(net.parameters(),lr = 0.001)\n",
        "    loss_fn = T.nn.MSELoss()\n",
        "    #fn_cost = fit(eval(mod), opt, loss_fn, train_dl, pvalid, tvalid, 1)\n",
        "    fn_cost, acctr, accte = fitandacc(eval(mod), opt, loss_fn, train_dl, test_dl, 91)\n",
        "    test = pd.DataFrame([[j+1, fn_cost, acctr, accte]], columns=[\"Model\", \"Cost\", \"Accuracy-Train\", \"Accuracy-Test\"])\n",
        "    out_df[1] = out_df[1].append(test,ignore_index=True)\n",
        "print(ycols[1])\n",
        "out_df[1]"
      ]
    },
    {
      "cell_type": "code",
      "execution_count": null,
      "metadata": {
        "id": "yW7A7Q_SzbnT"
      },
      "outputs": [],
      "source": [
        "print(ycols[2])\n",
        "out_df[2]"
      ]
    },
    {
      "cell_type": "code",
      "execution_count": null,
      "metadata": {
        "id": "5b2GI1cvzfSL"
      },
      "outputs": [],
      "source": [
        "print(ycols[3])\n",
        "out_df[3]"
      ]
    },
    {
      "cell_type": "code",
      "execution_count": null,
      "metadata": {
        "id": "b5rKwCjRzhtl"
      },
      "outputs": [],
      "source": [
        "print(ycols[4])\n",
        "out_df[4]"
      ]
    },
    {
      "cell_type": "code",
      "execution_count": null,
      "metadata": {
        "id": "ANUDD5Jgzj7A"
      },
      "outputs": [],
      "source": [
        "print(ycols[5])\n",
        "out_df[5]"
      ]
    },
    {
      "cell_type": "code",
      "execution_count": null,
      "metadata": {
        "id": "s0_FxHGGzlvN"
      },
      "outputs": [],
      "source": [
        ""
      ]
    }
  ],
  "metadata": {
    "colab": {
      "name": "FinalEffluentANN.ipynb",
      "provenance": [],
      "collapsed_sections": []
    },
    "kernelspec": {
      "display_name": "Python 3",
      "name": "python3"
    },
    "language_info": {
      "name": "python"
    }
  },
  "nbformat": 4,
  "nbformat_minor": 0
}